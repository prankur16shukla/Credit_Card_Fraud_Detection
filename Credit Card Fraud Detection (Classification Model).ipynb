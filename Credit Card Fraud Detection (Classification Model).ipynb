{
 "cells": [
  {
   "cell_type": "markdown",
   "id": "3f46d7a5",
   "metadata": {},
   "source": [
    "# Classification Model for Credit Card Fraud Detection"
   ]
  },
  {
   "cell_type": "markdown",
   "id": "cebca654",
   "metadata": {},
   "source": [
    "In this Machine Learning Project, we will be analysing the dataset taken from www.kaggle.com related to details of credit card owners. This data consists of features like Gender, Income type, House type, marital status and many more. Our focus will be on analysing the data, getting the insights related to these features and there role in affecting the target, we will perform feature engineering, feature selection and develop a Classification model that will predict whether it is a Fraud or not based on the new data."
   ]
  },
  {
   "cell_type": "markdown",
   "id": "ffbe1658",
   "metadata": {},
   "source": [
    "## Importing the Important Libraries required"
   ]
  },
  {
   "cell_type": "code",
   "execution_count": 1,
   "id": "3018c295",
   "metadata": {},
   "outputs": [],
   "source": [
    "import numpy as np\n",
    "import pandas as pd\n",
    "import seaborn as sns\n",
    "import matplotlib.pyplot as plt\n",
    "%matplotlib inline\n",
    "\n",
    "from imblearn.combine import SMOTETomek\n",
    "from sklearn.preprocessing import MinMaxScaler\n",
    "from sklearn.model_selection import train_test_split\n",
    "from sklearn.neighbors import KNeighborsClassifier\n",
    "from sklearn import metrics\n",
    "\n",
    "pd.set_option('display.max_columns', None)"
   ]
  },
  {
   "cell_type": "markdown",
   "id": "e4ca9a82",
   "metadata": {},
   "source": [
    "## Reading the 'credit_dataset.csv' Dataset"
   ]
  },
  {
   "cell_type": "code",
   "execution_count": 2,
   "id": "cbf708c5",
   "metadata": {},
   "outputs": [],
   "source": [
    "# reading dataset as DataFrame by pandas\n",
    "credit_df = pd.read_csv('credit_dataset.csv')"
   ]
  },
  {
   "cell_type": "code",
   "execution_count": 3,
   "id": "8a34e2fe",
   "metadata": {},
   "outputs": [
    {
     "data": {
      "text/html": [
       "<div>\n",
       "<style scoped>\n",
       "    .dataframe tbody tr th:only-of-type {\n",
       "        vertical-align: middle;\n",
       "    }\n",
       "\n",
       "    .dataframe tbody tr th {\n",
       "        vertical-align: top;\n",
       "    }\n",
       "\n",
       "    .dataframe thead th {\n",
       "        text-align: right;\n",
       "    }\n",
       "</style>\n",
       "<table border=\"1\" class=\"dataframe\">\n",
       "  <thead>\n",
       "    <tr style=\"text-align: right;\">\n",
       "      <th></th>\n",
       "      <th>ID</th>\n",
       "      <th>GENDER</th>\n",
       "      <th>CAR</th>\n",
       "      <th>REALITY</th>\n",
       "      <th>NO_OF_CHILD</th>\n",
       "      <th>INCOME</th>\n",
       "      <th>INCOME_TYPE</th>\n",
       "      <th>EDUCATION_TYPE</th>\n",
       "      <th>FAMILY_TYPE</th>\n",
       "      <th>HOUSE_TYPE</th>\n",
       "      <th>FLAG_MOBIL</th>\n",
       "      <th>WORK_PHONE</th>\n",
       "      <th>PHONE</th>\n",
       "      <th>E_MAIL</th>\n",
       "      <th>FAMILY SIZE</th>\n",
       "      <th>BEGIN_MONTH</th>\n",
       "      <th>AGE</th>\n",
       "      <th>YEARS_EMPLOYED</th>\n",
       "      <th>TARGET</th>\n",
       "    </tr>\n",
       "  </thead>\n",
       "  <tbody>\n",
       "    <tr>\n",
       "      <th>0</th>\n",
       "      <td>5008806</td>\n",
       "      <td>M</td>\n",
       "      <td>Y</td>\n",
       "      <td>Y</td>\n",
       "      <td>0</td>\n",
       "      <td>112500.0</td>\n",
       "      <td>Working</td>\n",
       "      <td>Secondary / secondary special</td>\n",
       "      <td>Married</td>\n",
       "      <td>House / apartment</td>\n",
       "      <td>1</td>\n",
       "      <td>0</td>\n",
       "      <td>0</td>\n",
       "      <td>0</td>\n",
       "      <td>2</td>\n",
       "      <td>29</td>\n",
       "      <td>59</td>\n",
       "      <td>3</td>\n",
       "      <td>0</td>\n",
       "    </tr>\n",
       "    <tr>\n",
       "      <th>1</th>\n",
       "      <td>5008808</td>\n",
       "      <td>F</td>\n",
       "      <td>N</td>\n",
       "      <td>Y</td>\n",
       "      <td>0</td>\n",
       "      <td>270000.0</td>\n",
       "      <td>Commercial associate</td>\n",
       "      <td>Secondary / secondary special</td>\n",
       "      <td>Single / not married</td>\n",
       "      <td>House / apartment</td>\n",
       "      <td>1</td>\n",
       "      <td>0</td>\n",
       "      <td>1</td>\n",
       "      <td>1</td>\n",
       "      <td>1</td>\n",
       "      <td>4</td>\n",
       "      <td>52</td>\n",
       "      <td>8</td>\n",
       "      <td>0</td>\n",
       "    </tr>\n",
       "    <tr>\n",
       "      <th>2</th>\n",
       "      <td>5008809</td>\n",
       "      <td>F</td>\n",
       "      <td>N</td>\n",
       "      <td>Y</td>\n",
       "      <td>0</td>\n",
       "      <td>270000.0</td>\n",
       "      <td>Commercial associate</td>\n",
       "      <td>Secondary / secondary special</td>\n",
       "      <td>Single / not married</td>\n",
       "      <td>House / apartment</td>\n",
       "      <td>1</td>\n",
       "      <td>0</td>\n",
       "      <td>1</td>\n",
       "      <td>1</td>\n",
       "      <td>1</td>\n",
       "      <td>26</td>\n",
       "      <td>52</td>\n",
       "      <td>8</td>\n",
       "      <td>0</td>\n",
       "    </tr>\n",
       "    <tr>\n",
       "      <th>3</th>\n",
       "      <td>5008810</td>\n",
       "      <td>F</td>\n",
       "      <td>N</td>\n",
       "      <td>Y</td>\n",
       "      <td>0</td>\n",
       "      <td>270000.0</td>\n",
       "      <td>Commercial associate</td>\n",
       "      <td>Secondary / secondary special</td>\n",
       "      <td>Single / not married</td>\n",
       "      <td>House / apartment</td>\n",
       "      <td>1</td>\n",
       "      <td>0</td>\n",
       "      <td>1</td>\n",
       "      <td>1</td>\n",
       "      <td>1</td>\n",
       "      <td>26</td>\n",
       "      <td>52</td>\n",
       "      <td>8</td>\n",
       "      <td>0</td>\n",
       "    </tr>\n",
       "    <tr>\n",
       "      <th>4</th>\n",
       "      <td>5008811</td>\n",
       "      <td>F</td>\n",
       "      <td>N</td>\n",
       "      <td>Y</td>\n",
       "      <td>0</td>\n",
       "      <td>270000.0</td>\n",
       "      <td>Commercial associate</td>\n",
       "      <td>Secondary / secondary special</td>\n",
       "      <td>Single / not married</td>\n",
       "      <td>House / apartment</td>\n",
       "      <td>1</td>\n",
       "      <td>0</td>\n",
       "      <td>1</td>\n",
       "      <td>1</td>\n",
       "      <td>1</td>\n",
       "      <td>38</td>\n",
       "      <td>52</td>\n",
       "      <td>8</td>\n",
       "      <td>0</td>\n",
       "    </tr>\n",
       "    <tr>\n",
       "      <th>...</th>\n",
       "      <td>...</td>\n",
       "      <td>...</td>\n",
       "      <td>...</td>\n",
       "      <td>...</td>\n",
       "      <td>...</td>\n",
       "      <td>...</td>\n",
       "      <td>...</td>\n",
       "      <td>...</td>\n",
       "      <td>...</td>\n",
       "      <td>...</td>\n",
       "      <td>...</td>\n",
       "      <td>...</td>\n",
       "      <td>...</td>\n",
       "      <td>...</td>\n",
       "      <td>...</td>\n",
       "      <td>...</td>\n",
       "      <td>...</td>\n",
       "      <td>...</td>\n",
       "      <td>...</td>\n",
       "    </tr>\n",
       "    <tr>\n",
       "      <th>25129</th>\n",
       "      <td>5149828</td>\n",
       "      <td>M</td>\n",
       "      <td>Y</td>\n",
       "      <td>Y</td>\n",
       "      <td>0</td>\n",
       "      <td>315000.0</td>\n",
       "      <td>Working</td>\n",
       "      <td>Secondary / secondary special</td>\n",
       "      <td>Married</td>\n",
       "      <td>House / apartment</td>\n",
       "      <td>1</td>\n",
       "      <td>0</td>\n",
       "      <td>0</td>\n",
       "      <td>0</td>\n",
       "      <td>2</td>\n",
       "      <td>11</td>\n",
       "      <td>48</td>\n",
       "      <td>7</td>\n",
       "      <td>1</td>\n",
       "    </tr>\n",
       "    <tr>\n",
       "      <th>25130</th>\n",
       "      <td>5149834</td>\n",
       "      <td>F</td>\n",
       "      <td>N</td>\n",
       "      <td>Y</td>\n",
       "      <td>0</td>\n",
       "      <td>157500.0</td>\n",
       "      <td>Commercial associate</td>\n",
       "      <td>Higher education</td>\n",
       "      <td>Married</td>\n",
       "      <td>House / apartment</td>\n",
       "      <td>1</td>\n",
       "      <td>0</td>\n",
       "      <td>1</td>\n",
       "      <td>1</td>\n",
       "      <td>2</td>\n",
       "      <td>23</td>\n",
       "      <td>34</td>\n",
       "      <td>4</td>\n",
       "      <td>1</td>\n",
       "    </tr>\n",
       "    <tr>\n",
       "      <th>25131</th>\n",
       "      <td>5149838</td>\n",
       "      <td>F</td>\n",
       "      <td>N</td>\n",
       "      <td>Y</td>\n",
       "      <td>0</td>\n",
       "      <td>157500.0</td>\n",
       "      <td>Pensioner</td>\n",
       "      <td>Higher education</td>\n",
       "      <td>Married</td>\n",
       "      <td>House / apartment</td>\n",
       "      <td>1</td>\n",
       "      <td>0</td>\n",
       "      <td>1</td>\n",
       "      <td>1</td>\n",
       "      <td>2</td>\n",
       "      <td>32</td>\n",
       "      <td>34</td>\n",
       "      <td>4</td>\n",
       "      <td>1</td>\n",
       "    </tr>\n",
       "    <tr>\n",
       "      <th>25132</th>\n",
       "      <td>5150049</td>\n",
       "      <td>F</td>\n",
       "      <td>N</td>\n",
       "      <td>Y</td>\n",
       "      <td>0</td>\n",
       "      <td>283500.0</td>\n",
       "      <td>Working</td>\n",
       "      <td>Secondary / secondary special</td>\n",
       "      <td>Married</td>\n",
       "      <td>House / apartment</td>\n",
       "      <td>1</td>\n",
       "      <td>0</td>\n",
       "      <td>0</td>\n",
       "      <td>0</td>\n",
       "      <td>2</td>\n",
       "      <td>9</td>\n",
       "      <td>49</td>\n",
       "      <td>2</td>\n",
       "      <td>1</td>\n",
       "    </tr>\n",
       "    <tr>\n",
       "      <th>25133</th>\n",
       "      <td>5150337</td>\n",
       "      <td>M</td>\n",
       "      <td>N</td>\n",
       "      <td>Y</td>\n",
       "      <td>0</td>\n",
       "      <td>112500.0</td>\n",
       "      <td>Working</td>\n",
       "      <td>Secondary / secondary special</td>\n",
       "      <td>Single / not married</td>\n",
       "      <td>Rented apartment</td>\n",
       "      <td>1</td>\n",
       "      <td>0</td>\n",
       "      <td>0</td>\n",
       "      <td>0</td>\n",
       "      <td>1</td>\n",
       "      <td>13</td>\n",
       "      <td>25</td>\n",
       "      <td>3</td>\n",
       "      <td>1</td>\n",
       "    </tr>\n",
       "  </tbody>\n",
       "</table>\n",
       "<p>25134 rows × 19 columns</p>\n",
       "</div>"
      ],
      "text/plain": [
       "            ID GENDER CAR REALITY  NO_OF_CHILD    INCOME  \\\n",
       "0      5008806      M   Y       Y            0  112500.0   \n",
       "1      5008808      F   N       Y            0  270000.0   \n",
       "2      5008809      F   N       Y            0  270000.0   \n",
       "3      5008810      F   N       Y            0  270000.0   \n",
       "4      5008811      F   N       Y            0  270000.0   \n",
       "...        ...    ...  ..     ...          ...       ...   \n",
       "25129  5149828      M   Y       Y            0  315000.0   \n",
       "25130  5149834      F   N       Y            0  157500.0   \n",
       "25131  5149838      F   N       Y            0  157500.0   \n",
       "25132  5150049      F   N       Y            0  283500.0   \n",
       "25133  5150337      M   N       Y            0  112500.0   \n",
       "\n",
       "                INCOME_TYPE                 EDUCATION_TYPE  \\\n",
       "0                   Working  Secondary / secondary special   \n",
       "1      Commercial associate  Secondary / secondary special   \n",
       "2      Commercial associate  Secondary / secondary special   \n",
       "3      Commercial associate  Secondary / secondary special   \n",
       "4      Commercial associate  Secondary / secondary special   \n",
       "...                     ...                            ...   \n",
       "25129               Working  Secondary / secondary special   \n",
       "25130  Commercial associate               Higher education   \n",
       "25131             Pensioner               Higher education   \n",
       "25132               Working  Secondary / secondary special   \n",
       "25133               Working  Secondary / secondary special   \n",
       "\n",
       "                FAMILY_TYPE         HOUSE_TYPE  FLAG_MOBIL  WORK_PHONE  PHONE  \\\n",
       "0                   Married  House / apartment           1           0      0   \n",
       "1      Single / not married  House / apartment           1           0      1   \n",
       "2      Single / not married  House / apartment           1           0      1   \n",
       "3      Single / not married  House / apartment           1           0      1   \n",
       "4      Single / not married  House / apartment           1           0      1   \n",
       "...                     ...                ...         ...         ...    ...   \n",
       "25129               Married  House / apartment           1           0      0   \n",
       "25130               Married  House / apartment           1           0      1   \n",
       "25131               Married  House / apartment           1           0      1   \n",
       "25132               Married  House / apartment           1           0      0   \n",
       "25133  Single / not married   Rented apartment           1           0      0   \n",
       "\n",
       "       E_MAIL  FAMILY SIZE  BEGIN_MONTH  AGE  YEARS_EMPLOYED  TARGET  \n",
       "0           0            2           29   59               3       0  \n",
       "1           1            1            4   52               8       0  \n",
       "2           1            1           26   52               8       0  \n",
       "3           1            1           26   52               8       0  \n",
       "4           1            1           38   52               8       0  \n",
       "...       ...          ...          ...  ...             ...     ...  \n",
       "25129       0            2           11   48               7       1  \n",
       "25130       1            2           23   34               4       1  \n",
       "25131       1            2           32   34               4       1  \n",
       "25132       0            2            9   49               2       1  \n",
       "25133       0            1           13   25               3       1  \n",
       "\n",
       "[25134 rows x 19 columns]"
      ]
     },
     "execution_count": 3,
     "metadata": {},
     "output_type": "execute_result"
    }
   ],
   "source": [
    "# observing the data that we have\n",
    "credit_df"
   ]
  },
  {
   "cell_type": "markdown",
   "id": "64087bc2",
   "metadata": {},
   "source": [
    "It can be observed that in total we have 25134 rows and 19 columns(features) i.e id, gender, car, reality, no_of_child, income, income_type, education_type, family_type, house_type, flag_mobil, work_phone, phone, e_mail, family size, begin_month, age, years_employed, target."
   ]
  },
  {
   "cell_type": "code",
   "execution_count": 4,
   "id": "641fb92b",
   "metadata": {},
   "outputs": [
    {
     "name": "stdout",
     "output_type": "stream",
     "text": [
      "<class 'pandas.core.frame.DataFrame'>\n",
      "RangeIndex: 25134 entries, 0 to 25133\n",
      "Data columns (total 19 columns):\n",
      " #   Column          Non-Null Count  Dtype  \n",
      "---  ------          --------------  -----  \n",
      " 0   ID              25134 non-null  int64  \n",
      " 1   GENDER          25134 non-null  object \n",
      " 2   CAR             25134 non-null  object \n",
      " 3   REALITY         25134 non-null  object \n",
      " 4   NO_OF_CHILD     25134 non-null  int64  \n",
      " 5   INCOME          25134 non-null  float64\n",
      " 6   INCOME_TYPE     25134 non-null  object \n",
      " 7   EDUCATION_TYPE  25134 non-null  object \n",
      " 8   FAMILY_TYPE     25134 non-null  object \n",
      " 9   HOUSE_TYPE      25134 non-null  object \n",
      " 10  FLAG_MOBIL      25134 non-null  int64  \n",
      " 11  WORK_PHONE      25134 non-null  int64  \n",
      " 12  PHONE           25134 non-null  int64  \n",
      " 13  E_MAIL          25134 non-null  int64  \n",
      " 14  FAMILY SIZE     25134 non-null  int64  \n",
      " 15  BEGIN_MONTH     25134 non-null  int64  \n",
      " 16  AGE             25134 non-null  int64  \n",
      " 17  YEARS_EMPLOYED  25134 non-null  int64  \n",
      " 18  TARGET          25134 non-null  int64  \n",
      "dtypes: float64(1), int64(11), object(7)\n",
      "memory usage: 3.6+ MB\n"
     ]
    }
   ],
   "source": [
    "# understanding the features that we have in the dataset\n",
    "credit_df.info()"
   ]
  },
  {
   "cell_type": "markdown",
   "id": "3c93b302",
   "metadata": {},
   "source": [
    "We can observe that we are having numerical and categorical features both, we need to perform encoding on the categorical features inorder to use them in our machine learning model"
   ]
  },
  {
   "cell_type": "code",
   "execution_count": 5,
   "id": "ee454d1b",
   "metadata": {},
   "outputs": [
    {
     "data": {
      "text/plain": [
       "ID                0\n",
       "GENDER            0\n",
       "CAR               0\n",
       "REALITY           0\n",
       "NO_OF_CHILD       0\n",
       "INCOME            0\n",
       "INCOME_TYPE       0\n",
       "EDUCATION_TYPE    0\n",
       "FAMILY_TYPE       0\n",
       "HOUSE_TYPE        0\n",
       "FLAG_MOBIL        0\n",
       "WORK_PHONE        0\n",
       "PHONE             0\n",
       "E_MAIL            0\n",
       "FAMILY SIZE       0\n",
       "BEGIN_MONTH       0\n",
       "AGE               0\n",
       "YEARS_EMPLOYED    0\n",
       "TARGET            0\n",
       "dtype: int64"
      ]
     },
     "execution_count": 5,
     "metadata": {},
     "output_type": "execute_result"
    }
   ],
   "source": [
    "# Checking for Nan Values in features\n",
    "credit_df.isnull().sum()"
   ]
  },
  {
   "cell_type": "markdown",
   "id": "9dea13d1",
   "metadata": {},
   "source": [
    "The features dont contain any missing values so we dont need to handle any 'Nan' values."
   ]
  },
  {
   "cell_type": "markdown",
   "id": "5488270f",
   "metadata": {},
   "source": [
    "### Exploratory Data Analysis"
   ]
  },
  {
   "cell_type": "code",
   "execution_count": 6,
   "id": "0d5458ed",
   "metadata": {
    "scrolled": true
   },
   "outputs": [
    {
     "name": "stderr",
     "output_type": "stream",
     "text": [
      "c:\\users\\prank\\appdata\\local\\programs\\python\\python37\\lib\\site-packages\\seaborn\\axisgrid.py:392: RuntimeWarning: More than 20 figures have been opened. Figures created through the pyplot interface (`matplotlib.pyplot.figure`) are retained until explicitly closed and may consume too much memory. (To control this warning, see the rcParam `figure.max_open_warning`).\n",
      "  fig, axes = plt.subplots(nrow, ncol, **kwargs)\n"
     ]
    },
    {
     "data": {
      "text/plain": [
       "<Figure size 432x288 with 0 Axes>"
      ]
     },
     "metadata": {},
     "output_type": "display_data"
    },
    {
     "data": {
      "image/png": "[encoded data removed]",
      "text/plain": [
       "<Figure size 360x360 with 1 Axes>"
      ]
     },
     "metadata": {
      "needs_background": "light"
     },
     "output_type": "display_data"
    },
    {
     "data": {
      "image/png": "[encoded data removed]",
      "text/plain": [
       "<Figure size 432x288 with 1 Axes>"
      ]
     },
     "metadata": {
      "needs_background": "light"
     },
     "output_type": "display_data"
    },
    {
     "data": {
      "image/png": "[encoded data removed]",
      "text/plain": [
       "<Figure size 432x288 with 1 Axes>"
      ]
     },
     "metadata": {
      "needs_background": "light"
     },
     "output_type": "display_data"
    },
    {
     "data": {
      "image/png": "[encoded data removed]",
      "text/plain": [
       "<Figure size 432x288 with 1 Axes>"
      ]
     },
     "metadata": {
      "needs_background": "light"
     },
     "output_type": "display_data"
    },
    {
     "data": {
      "text/plain": [
       "<Figure size 432x288 with 0 Axes>"
      ]
     },
     "metadata": {},
     "output_type": "display_data"
    },
    {
     "data": {
      "image/png": "[encoded data removed]",
      "text/plain": [
       "<Figure size 360x360 with 1 Axes>"
      ]
     },
     "metadata": {
      "needs_background": "light"
     },
     "output_type": "display_data"
    },
    {
     "data": {
      "text/plain": [
       "<Figure size 432x288 with 0 Axes>"
      ]
     },
     "metadata": {},
     "output_type": "display_data"
    },
    {
     "data": {
      "image/png": "[encoded data removed]",
      "text/plain": [
       "<Figure size 360x360 with 1 Axes>"
      ]
     },
     "metadata": {
      "needs_background": "light"
     },
     "output_type": "display_data"
    },
    {
     "data": {
      "image/png": "[encoded data removed]",
      "text/plain": [
       "<Figure size 432x288 with 1 Axes>"
      ]
     },
     "metadata": {
      "needs_background": "light"
     },
     "output_type": "display_data"
    },
    {
     "data": {
      "image/png": "[encoded data removed]",
      "text/plain": [
       "<Figure size 432x288 with 1 Axes>"
      ]
     },
     "metadata": {
      "needs_background": "light"
     },
     "output_type": "display_data"
    },
    {
     "data": {
      "image/png": "[encoded data removed]",
      "text/plain": [
       "<Figure size 432x288 with 1 Axes>"
      ]
     },
     "metadata": {
      "needs_background": "light"
     },
     "output_type": "display_data"
    },
    {
     "data": {
      "image/png": "[encoded data removed]",
      "text/plain": [
       "<Figure size 432x288 with 1 Axes>"
      ]
     },
     "metadata": {
      "needs_background": "light"
     },
     "output_type": "display_data"
    },
    {
     "data": {
      "text/plain": [
       "<Figure size 432x288 with 0 Axes>"
      ]
     },
     "metadata": {},
     "output_type": "display_data"
    },
    {
     "data": {
      "image/png": "[encoded data removed]",
      "text/plain": [
       "<Figure size 360x360 with 1 Axes>"
      ]
     },
     "metadata": {
      "needs_background": "light"
     },
     "output_type": "display_data"
    },
    {
     "data": {
      "text/plain": [
       "<Figure size 432x288 with 0 Axes>"
      ]
     },
     "metadata": {},
     "output_type": "display_data"
    },
    {
     "data": {
      "image/png": "[encoded data removed]",
      "text/plain": [
       "<Figure size 360x360 with 1 Axes>"
      ]
     },
     "metadata": {
      "needs_background": "light"
     },
     "output_type": "display_data"
    },
    {
     "data": {
      "text/plain": [
       "<Figure size 432x288 with 0 Axes>"
      ]
     },
     "metadata": {},
     "output_type": "display_data"
    },
    {
     "data": {
      "image/png": "[encoded data removed]",
      "text/plain": [
       "<Figure size 360x360 with 1 Axes>"
      ]
     },
     "metadata": {
      "needs_background": "light"
     },
     "output_type": "display_data"
    },
    {
     "data": {
      "text/plain": [
       "<Figure size 432x288 with 0 Axes>"
      ]
     },
     "metadata": {},
     "output_type": "display_data"
    },
    {
     "data": {
      "image/png": "[encoded data removed]",
      "text/plain": [
       "<Figure size 360x360 with 1 Axes>"
      ]
     },
     "metadata": {
      "needs_background": "light"
     },
     "output_type": "display_data"
    },
    {
     "data": {
      "text/plain": [
       "<Figure size 432x288 with 0 Axes>"
      ]
     },
     "metadata": {},
     "output_type": "display_data"
    },
    {
     "data": {
      "image/png": "[encoded data removed]",
      "text/plain": [
       "<Figure size 360x360 with 1 Axes>"
      ]
     },
     "metadata": {
      "needs_background": "light"
     },
     "output_type": "display_data"
    },
    {
     "data": {
      "text/plain": [
       "<Figure size 432x288 with 0 Axes>"
      ]
     },
     "metadata": {},
     "output_type": "display_data"
    },
    {
     "data": {
      "image/png": "[encoded data removed]",
      "text/plain": [
       "<Figure size 360x360 with 1 Axes>"
      ]
     },
     "metadata": {
      "needs_background": "light"
     },
     "output_type": "display_data"
    },
    {
     "data": {
      "text/plain": [
       "<Figure size 432x288 with 0 Axes>"
      ]
     },
     "metadata": {},
     "output_type": "display_data"
    },
    {
     "data": {
      "image/png": "[encoded data removed]",
      "text/plain": [
       "<Figure size 360x360 with 1 Axes>"
      ]
     },
     "metadata": {
      "needs_background": "light"
     },
     "output_type": "display_data"
    },
    {
     "data": {
      "text/plain": [
       "<Figure size 432x288 with 0 Axes>"
      ]
     },
     "metadata": {},
     "output_type": "display_data"
    },
    {
     "data": {
      "image/png": "[encoded data removed]",
      "text/plain": [
       "<Figure size 360x360 with 1 Axes>"
      ]
     },
     "metadata": {
      "needs_background": "light"
     },
     "output_type": "display_data"
    }
   ],
   "source": [
    "for feature in (features for features in credit_df.columns if features != 'TARGET'):\n",
    "    if credit_df[feature].dtype == 'O':\n",
    "        plt.figure()\n",
    "        g = sns.countplot(x = feature, data = credit_df)\n",
    "        g.set_xticklabels(g.get_xticklabels(), rotation = 40, ha = \"right\")\n",
    "    else:\n",
    "        plt.figure()\n",
    "        sns.displot(credit_df[feature])"
   ]
  },
  {
   "cell_type": "markdown",
   "id": "4e33350f",
   "metadata": {},
   "source": [
    "### Observing Correlation between features"
   ]
  },
  {
   "cell_type": "code",
   "execution_count": 7,
   "id": "8cdd9807",
   "metadata": {},
   "outputs": [
    {
     "data": {
      "image/png": "[encoded data removed]",
      "text/plain": [
       "<Figure size 1440x1440 with 2 Axes>"
      ]
     },
     "metadata": {
      "needs_background": "light"
     },
     "output_type": "display_data"
    }
   ],
   "source": [
    "# plotting a Heatmap\n",
    "\n",
    "corrmat = credit_df.corr()\n",
    "features = corrmat.index\n",
    "plt.figure(figsize = [20,20])\n",
    "\n",
    "g = sns.heatmap(credit_df[features].corr(),annot = True, cmap = \"RdYlGn\")"
   ]
  },
  {
   "cell_type": "code",
   "execution_count": 8,
   "id": "8c8aa6fd",
   "metadata": {},
   "outputs": [
    {
     "data": {
      "text/plain": [
       "array([1], dtype=int64)"
      ]
     },
     "execution_count": 8,
     "metadata": {},
     "output_type": "execute_result"
    }
   ],
   "source": [
    "# observing the feature FLAG_MOBIL\n",
    "credit_df['FLAG_MOBIL'].unique()"
   ]
  },
  {
   "cell_type": "markdown",
   "id": "479a17d1",
   "metadata": {},
   "source": [
    "It can be clearly seen that the column FLAG_MOBIL has no correlation with any of the feature and is just a constant so we can simply drop this column."
   ]
  },
  {
   "cell_type": "code",
   "execution_count": 9,
   "id": "23cea13b",
   "metadata": {},
   "outputs": [],
   "source": [
    "# droping FLAG_MOBIL column from dataframe\n",
    "credit_df.drop('FLAG_MOBIL', axis = 1, inplace = True)"
   ]
  },
  {
   "cell_type": "markdown",
   "id": "c7c89b70",
   "metadata": {},
   "source": [
    "## Categorical Features Encoding"
   ]
  },
  {
   "cell_type": "markdown",
   "id": "a9bc7f11",
   "metadata": {},
   "source": [
    "Separating the data into independent and dependent features as our target feature is a categorical feature, we dont have to affect it."
   ]
  },
  {
   "cell_type": "code",
   "execution_count": 10,
   "id": "feb53016",
   "metadata": {},
   "outputs": [],
   "source": [
    "columns = [c for c in credit_df.columns if c not in ['TARGET']]\n",
    "credit_x = credit_df[columns]\n",
    "credit_y = credit_df['TARGET']"
   ]
  },
  {
   "cell_type": "code",
   "execution_count": 11,
   "id": "f72cc677",
   "metadata": {},
   "outputs": [
    {
     "name": "stdout",
     "output_type": "stream",
     "text": [
      "(25134, 17)   (25134,)\n"
     ]
    }
   ],
   "source": [
    "print(credit_x.shape,' ',credit_y.shape)"
   ]
  },
  {
   "cell_type": "code",
   "execution_count": 12,
   "id": "19d6af7b",
   "metadata": {},
   "outputs": [
    {
     "name": "stdout",
     "output_type": "stream",
     "text": [
      "['GENDER', 'CAR', 'REALITY', 'INCOME_TYPE', 'EDUCATION_TYPE', 'FAMILY_TYPE', 'HOUSE_TYPE']\n"
     ]
    }
   ],
   "source": [
    "# creating a list of categorical features\n",
    "cat_feat = [features for features in credit_x.columns if credit_x[features].dtype == 'O']\n",
    "print(cat_feat)"
   ]
  },
  {
   "cell_type": "code",
   "execution_count": 13,
   "id": "32cde2df",
   "metadata": {},
   "outputs": [
    {
     "name": "stdout",
     "output_type": "stream",
     "text": [
      "Cardinality of GENDER : 2\n",
      "Unique values of GENDER : ['M' 'F']\n",
      "\n",
      "Cardinality of CAR : 2\n",
      "Unique values of CAR : ['Y' 'N']\n",
      "\n",
      "Cardinality of REALITY : 2\n",
      "Unique values of REALITY : ['Y' 'N']\n",
      "\n",
      "Cardinality of INCOME_TYPE : 5\n",
      "Unique values of INCOME_TYPE : ['Working' 'Commercial associate' 'State servant' 'Student' 'Pensioner']\n",
      "\n",
      "Cardinality of EDUCATION_TYPE : 5\n",
      "Unique values of EDUCATION_TYPE : ['Secondary / secondary special' 'Higher education' 'Incomplete higher'\n",
      " 'Lower secondary' 'Academic degree']\n",
      "\n",
      "Cardinality of FAMILY_TYPE : 5\n",
      "Unique values of FAMILY_TYPE : ['Married' 'Single / not married' 'Civil marriage' 'Separated' 'Widow']\n",
      "\n",
      "Cardinality of HOUSE_TYPE : 6\n",
      "Unique values of HOUSE_TYPE : ['House / apartment' 'Rented apartment' 'Municipal apartment'\n",
      " 'With parents' 'Co-op apartment' 'Office apartment']\n",
      "\n"
     ]
    }
   ],
   "source": [
    "# checking the cardinality of each categorical feature\n",
    "\n",
    "for feature in cat_feat:\n",
    "    print(\"Cardinality of {} : {}\".format(feature, credit_x[feature].nunique()))\n",
    "    print(\"Unique values of {} : {}\".format(feature, credit_x[feature].unique()))\n",
    "    print('')"
   ]
  },
  {
   "cell_type": "markdown",
   "id": "a46dd35d",
   "metadata": {},
   "source": [
    "As it can be observed that the cardinality of the categorical features is not very high so we can encode them easily by One Hot Encoding."
   ]
  },
  {
   "cell_type": "code",
   "execution_count": 14,
   "id": "5013c75c",
   "metadata": {},
   "outputs": [
    {
     "name": "stderr",
     "output_type": "stream",
     "text": [
      "c:\\users\\prank\\appdata\\local\\programs\\python\\python37\\lib\\site-packages\\pandas\\core\\frame.py:4908: SettingWithCopyWarning: \n",
      "A value is trying to be set on a copy of a slice from a DataFrame\n",
      "\n",
      "See the caveats in the documentation: https://pandas.pydata.org/pandas-docs/stable/user_guide/indexing.html#returning-a-view-versus-a-copy\n",
      "  errors=errors,\n"
     ]
    }
   ],
   "source": [
    "# Encoding the categorical features \n",
    "for feature in cat_feat:\n",
    "    encoded = pd.get_dummies(credit_x[feature], prefix = feature, drop_first = True)\n",
    "    credit_x.drop(feature, axis = 1, inplace = True)\n",
    "    credit_x = pd.concat([credit_x, encoded], axis = 1)"
   ]
  },
  {
   "cell_type": "code",
   "execution_count": 15,
   "id": "69522400",
   "metadata": {},
   "outputs": [
    {
     "data": {
      "text/html": [
       "<div>\n",
       "<style scoped>\n",
       "    .dataframe tbody tr th:only-of-type {\n",
       "        vertical-align: middle;\n",
       "    }\n",
       "\n",
       "    .dataframe tbody tr th {\n",
       "        vertical-align: top;\n",
       "    }\n",
       "\n",
       "    .dataframe thead th {\n",
       "        text-align: right;\n",
       "    }\n",
       "</style>\n",
       "<table border=\"1\" class=\"dataframe\">\n",
       "  <thead>\n",
       "    <tr style=\"text-align: right;\">\n",
       "      <th></th>\n",
       "      <th>ID</th>\n",
       "      <th>NO_OF_CHILD</th>\n",
       "      <th>INCOME</th>\n",
       "      <th>WORK_PHONE</th>\n",
       "      <th>PHONE</th>\n",
       "      <th>E_MAIL</th>\n",
       "      <th>FAMILY SIZE</th>\n",
       "      <th>BEGIN_MONTH</th>\n",
       "      <th>AGE</th>\n",
       "      <th>YEARS_EMPLOYED</th>\n",
       "      <th>GENDER_M</th>\n",
       "      <th>CAR_Y</th>\n",
       "      <th>REALITY_Y</th>\n",
       "      <th>INCOME_TYPE_Pensioner</th>\n",
       "      <th>INCOME_TYPE_State servant</th>\n",
       "      <th>INCOME_TYPE_Student</th>\n",
       "      <th>INCOME_TYPE_Working</th>\n",
       "      <th>EDUCATION_TYPE_Higher education</th>\n",
       "      <th>EDUCATION_TYPE_Incomplete higher</th>\n",
       "      <th>EDUCATION_TYPE_Lower secondary</th>\n",
       "      <th>EDUCATION_TYPE_Secondary / secondary special</th>\n",
       "      <th>FAMILY_TYPE_Married</th>\n",
       "      <th>FAMILY_TYPE_Separated</th>\n",
       "      <th>FAMILY_TYPE_Single / not married</th>\n",
       "      <th>FAMILY_TYPE_Widow</th>\n",
       "      <th>HOUSE_TYPE_House / apartment</th>\n",
       "      <th>HOUSE_TYPE_Municipal apartment</th>\n",
       "      <th>HOUSE_TYPE_Office apartment</th>\n",
       "      <th>HOUSE_TYPE_Rented apartment</th>\n",
       "      <th>HOUSE_TYPE_With parents</th>\n",
       "    </tr>\n",
       "  </thead>\n",
       "  <tbody>\n",
       "    <tr>\n",
       "      <th>0</th>\n",
       "      <td>5008806</td>\n",
       "      <td>0</td>\n",
       "      <td>112500.0</td>\n",
       "      <td>0</td>\n",
       "      <td>0</td>\n",
       "      <td>0</td>\n",
       "      <td>2</td>\n",
       "      <td>29</td>\n",
       "      <td>59</td>\n",
       "      <td>3</td>\n",
       "      <td>1</td>\n",
       "      <td>1</td>\n",
       "      <td>1</td>\n",
       "      <td>0</td>\n",
       "      <td>0</td>\n",
       "      <td>0</td>\n",
       "      <td>1</td>\n",
       "      <td>0</td>\n",
       "      <td>0</td>\n",
       "      <td>0</td>\n",
       "      <td>1</td>\n",
       "      <td>1</td>\n",
       "      <td>0</td>\n",
       "      <td>0</td>\n",
       "      <td>0</td>\n",
       "      <td>1</td>\n",
       "      <td>0</td>\n",
       "      <td>0</td>\n",
       "      <td>0</td>\n",
       "      <td>0</td>\n",
       "    </tr>\n",
       "    <tr>\n",
       "      <th>1</th>\n",
       "      <td>5008808</td>\n",
       "      <td>0</td>\n",
       "      <td>270000.0</td>\n",
       "      <td>0</td>\n",
       "      <td>1</td>\n",
       "      <td>1</td>\n",
       "      <td>1</td>\n",
       "      <td>4</td>\n",
       "      <td>52</td>\n",
       "      <td>8</td>\n",
       "      <td>0</td>\n",
       "      <td>0</td>\n",
       "      <td>1</td>\n",
       "      <td>0</td>\n",
       "      <td>0</td>\n",
       "      <td>0</td>\n",
       "      <td>0</td>\n",
       "      <td>0</td>\n",
       "      <td>0</td>\n",
       "      <td>0</td>\n",
       "      <td>1</td>\n",
       "      <td>0</td>\n",
       "      <td>0</td>\n",
       "      <td>1</td>\n",
       "      <td>0</td>\n",
       "      <td>1</td>\n",
       "      <td>0</td>\n",
       "      <td>0</td>\n",
       "      <td>0</td>\n",
       "      <td>0</td>\n",
       "    </tr>\n",
       "    <tr>\n",
       "      <th>2</th>\n",
       "      <td>5008809</td>\n",
       "      <td>0</td>\n",
       "      <td>270000.0</td>\n",
       "      <td>0</td>\n",
       "      <td>1</td>\n",
       "      <td>1</td>\n",
       "      <td>1</td>\n",
       "      <td>26</td>\n",
       "      <td>52</td>\n",
       "      <td>8</td>\n",
       "      <td>0</td>\n",
       "      <td>0</td>\n",
       "      <td>1</td>\n",
       "      <td>0</td>\n",
       "      <td>0</td>\n",
       "      <td>0</td>\n",
       "      <td>0</td>\n",
       "      <td>0</td>\n",
       "      <td>0</td>\n",
       "      <td>0</td>\n",
       "      <td>1</td>\n",
       "      <td>0</td>\n",
       "      <td>0</td>\n",
       "      <td>1</td>\n",
       "      <td>0</td>\n",
       "      <td>1</td>\n",
       "      <td>0</td>\n",
       "      <td>0</td>\n",
       "      <td>0</td>\n",
       "      <td>0</td>\n",
       "    </tr>\n",
       "    <tr>\n",
       "      <th>3</th>\n",
       "      <td>5008810</td>\n",
       "      <td>0</td>\n",
       "      <td>270000.0</td>\n",
       "      <td>0</td>\n",
       "      <td>1</td>\n",
       "      <td>1</td>\n",
       "      <td>1</td>\n",
       "      <td>26</td>\n",
       "      <td>52</td>\n",
       "      <td>8</td>\n",
       "      <td>0</td>\n",
       "      <td>0</td>\n",
       "      <td>1</td>\n",
       "      <td>0</td>\n",
       "      <td>0</td>\n",
       "      <td>0</td>\n",
       "      <td>0</td>\n",
       "      <td>0</td>\n",
       "      <td>0</td>\n",
       "      <td>0</td>\n",
       "      <td>1</td>\n",
       "      <td>0</td>\n",
       "      <td>0</td>\n",
       "      <td>1</td>\n",
       "      <td>0</td>\n",
       "      <td>1</td>\n",
       "      <td>0</td>\n",
       "      <td>0</td>\n",
       "      <td>0</td>\n",
       "      <td>0</td>\n",
       "    </tr>\n",
       "    <tr>\n",
       "      <th>4</th>\n",
       "      <td>5008811</td>\n",
       "      <td>0</td>\n",
       "      <td>270000.0</td>\n",
       "      <td>0</td>\n",
       "      <td>1</td>\n",
       "      <td>1</td>\n",
       "      <td>1</td>\n",
       "      <td>38</td>\n",
       "      <td>52</td>\n",
       "      <td>8</td>\n",
       "      <td>0</td>\n",
       "      <td>0</td>\n",
       "      <td>1</td>\n",
       "      <td>0</td>\n",
       "      <td>0</td>\n",
       "      <td>0</td>\n",
       "      <td>0</td>\n",
       "      <td>0</td>\n",
       "      <td>0</td>\n",
       "      <td>0</td>\n",
       "      <td>1</td>\n",
       "      <td>0</td>\n",
       "      <td>0</td>\n",
       "      <td>1</td>\n",
       "      <td>0</td>\n",
       "      <td>1</td>\n",
       "      <td>0</td>\n",
       "      <td>0</td>\n",
       "      <td>0</td>\n",
       "      <td>0</td>\n",
       "    </tr>\n",
       "  </tbody>\n",
       "</table>\n",
       "</div>"
      ],
      "text/plain": [
       "        ID  NO_OF_CHILD    INCOME  WORK_PHONE  PHONE  E_MAIL  FAMILY SIZE  \\\n",
       "0  5008806            0  112500.0           0      0       0            2   \n",
       "1  5008808            0  270000.0           0      1       1            1   \n",
       "2  5008809            0  270000.0           0      1       1            1   \n",
       "3  5008810            0  270000.0           0      1       1            1   \n",
       "4  5008811            0  270000.0           0      1       1            1   \n",
       "\n",
       "   BEGIN_MONTH  AGE  YEARS_EMPLOYED  GENDER_M  CAR_Y  REALITY_Y  \\\n",
       "0           29   59               3         1      1          1   \n",
       "1            4   52               8         0      0          1   \n",
       "2           26   52               8         0      0          1   \n",
       "3           26   52               8         0      0          1   \n",
       "4           38   52               8         0      0          1   \n",
       "\n",
       "   INCOME_TYPE_Pensioner  INCOME_TYPE_State servant  INCOME_TYPE_Student  \\\n",
       "0                      0                          0                    0   \n",
       "1                      0                          0                    0   \n",
       "2                      0                          0                    0   \n",
       "3                      0                          0                    0   \n",
       "4                      0                          0                    0   \n",
       "\n",
       "   INCOME_TYPE_Working  EDUCATION_TYPE_Higher education  \\\n",
       "0                    1                                0   \n",
       "1                    0                                0   \n",
       "2                    0                                0   \n",
       "3                    0                                0   \n",
       "4                    0                                0   \n",
       "\n",
       "   EDUCATION_TYPE_Incomplete higher  EDUCATION_TYPE_Lower secondary  \\\n",
       "0                                 0                               0   \n",
       "1                                 0                               0   \n",
       "2                                 0                               0   \n",
       "3                                 0                               0   \n",
       "4                                 0                               0   \n",
       "\n",
       "   EDUCATION_TYPE_Secondary / secondary special  FAMILY_TYPE_Married  \\\n",
       "0                                             1                    1   \n",
       "1                                             1                    0   \n",
       "2                                             1                    0   \n",
       "3                                             1                    0   \n",
       "4                                             1                    0   \n",
       "\n",
       "   FAMILY_TYPE_Separated  FAMILY_TYPE_Single / not married  FAMILY_TYPE_Widow  \\\n",
       "0                      0                                 0                  0   \n",
       "1                      0                                 1                  0   \n",
       "2                      0                                 1                  0   \n",
       "3                      0                                 1                  0   \n",
       "4                      0                                 1                  0   \n",
       "\n",
       "   HOUSE_TYPE_House / apartment  HOUSE_TYPE_Municipal apartment  \\\n",
       "0                             1                               0   \n",
       "1                             1                               0   \n",
       "2                             1                               0   \n",
       "3                             1                               0   \n",
       "4                             1                               0   \n",
       "\n",
       "   HOUSE_TYPE_Office apartment  HOUSE_TYPE_Rented apartment  \\\n",
       "0                            0                            0   \n",
       "1                            0                            0   \n",
       "2                            0                            0   \n",
       "3                            0                            0   \n",
       "4                            0                            0   \n",
       "\n",
       "   HOUSE_TYPE_With parents  \n",
       "0                        0  \n",
       "1                        0  \n",
       "2                        0  \n",
       "3                        0  \n",
       "4                        0  "
      ]
     },
     "execution_count": 15,
     "metadata": {},
     "output_type": "execute_result"
    }
   ],
   "source": [
    "# observing the data after encoding\n",
    "credit_x.head()"
   ]
  },
  {
   "cell_type": "code",
   "execution_count": 16,
   "id": "738691e9",
   "metadata": {},
   "outputs": [
    {
     "data": {
      "text/html": [
       "<div>\n",
       "<style scoped>\n",
       "    .dataframe tbody tr th:only-of-type {\n",
       "        vertical-align: middle;\n",
       "    }\n",
       "\n",
       "    .dataframe tbody tr th {\n",
       "        vertical-align: top;\n",
       "    }\n",
       "\n",
       "    .dataframe thead th {\n",
       "        text-align: right;\n",
       "    }\n",
       "</style>\n",
       "<table border=\"1\" class=\"dataframe\">\n",
       "  <thead>\n",
       "    <tr style=\"text-align: right;\">\n",
       "      <th></th>\n",
       "      <th>NO_OF_CHILD</th>\n",
       "      <th>INCOME</th>\n",
       "      <th>WORK_PHONE</th>\n",
       "      <th>PHONE</th>\n",
       "      <th>E_MAIL</th>\n",
       "      <th>FAMILY SIZE</th>\n",
       "      <th>BEGIN_MONTH</th>\n",
       "      <th>AGE</th>\n",
       "      <th>YEARS_EMPLOYED</th>\n",
       "      <th>GENDER_M</th>\n",
       "      <th>CAR_Y</th>\n",
       "      <th>REALITY_Y</th>\n",
       "      <th>INCOME_TYPE_Pensioner</th>\n",
       "      <th>INCOME_TYPE_State servant</th>\n",
       "      <th>INCOME_TYPE_Student</th>\n",
       "      <th>INCOME_TYPE_Working</th>\n",
       "      <th>EDUCATION_TYPE_Higher education</th>\n",
       "      <th>EDUCATION_TYPE_Incomplete higher</th>\n",
       "      <th>EDUCATION_TYPE_Lower secondary</th>\n",
       "      <th>EDUCATION_TYPE_Secondary / secondary special</th>\n",
       "      <th>FAMILY_TYPE_Married</th>\n",
       "      <th>FAMILY_TYPE_Separated</th>\n",
       "      <th>FAMILY_TYPE_Single / not married</th>\n",
       "      <th>FAMILY_TYPE_Widow</th>\n",
       "      <th>HOUSE_TYPE_House / apartment</th>\n",
       "      <th>HOUSE_TYPE_Municipal apartment</th>\n",
       "      <th>HOUSE_TYPE_Office apartment</th>\n",
       "      <th>HOUSE_TYPE_Rented apartment</th>\n",
       "      <th>HOUSE_TYPE_With parents</th>\n",
       "    </tr>\n",
       "  </thead>\n",
       "  <tbody>\n",
       "    <tr>\n",
       "      <th>0</th>\n",
       "      <td>0</td>\n",
       "      <td>112500.0</td>\n",
       "      <td>0</td>\n",
       "      <td>0</td>\n",
       "      <td>0</td>\n",
       "      <td>2</td>\n",
       "      <td>29</td>\n",
       "      <td>59</td>\n",
       "      <td>3</td>\n",
       "      <td>1</td>\n",
       "      <td>1</td>\n",
       "      <td>1</td>\n",
       "      <td>0</td>\n",
       "      <td>0</td>\n",
       "      <td>0</td>\n",
       "      <td>1</td>\n",
       "      <td>0</td>\n",
       "      <td>0</td>\n",
       "      <td>0</td>\n",
       "      <td>1</td>\n",
       "      <td>1</td>\n",
       "      <td>0</td>\n",
       "      <td>0</td>\n",
       "      <td>0</td>\n",
       "      <td>1</td>\n",
       "      <td>0</td>\n",
       "      <td>0</td>\n",
       "      <td>0</td>\n",
       "      <td>0</td>\n",
       "    </tr>\n",
       "    <tr>\n",
       "      <th>1</th>\n",
       "      <td>0</td>\n",
       "      <td>270000.0</td>\n",
       "      <td>0</td>\n",
       "      <td>1</td>\n",
       "      <td>1</td>\n",
       "      <td>1</td>\n",
       "      <td>4</td>\n",
       "      <td>52</td>\n",
       "      <td>8</td>\n",
       "      <td>0</td>\n",
       "      <td>0</td>\n",
       "      <td>1</td>\n",
       "      <td>0</td>\n",
       "      <td>0</td>\n",
       "      <td>0</td>\n",
       "      <td>0</td>\n",
       "      <td>0</td>\n",
       "      <td>0</td>\n",
       "      <td>0</td>\n",
       "      <td>1</td>\n",
       "      <td>0</td>\n",
       "      <td>0</td>\n",
       "      <td>1</td>\n",
       "      <td>0</td>\n",
       "      <td>1</td>\n",
       "      <td>0</td>\n",
       "      <td>0</td>\n",
       "      <td>0</td>\n",
       "      <td>0</td>\n",
       "    </tr>\n",
       "    <tr>\n",
       "      <th>2</th>\n",
       "      <td>0</td>\n",
       "      <td>270000.0</td>\n",
       "      <td>0</td>\n",
       "      <td>1</td>\n",
       "      <td>1</td>\n",
       "      <td>1</td>\n",
       "      <td>26</td>\n",
       "      <td>52</td>\n",
       "      <td>8</td>\n",
       "      <td>0</td>\n",
       "      <td>0</td>\n",
       "      <td>1</td>\n",
       "      <td>0</td>\n",
       "      <td>0</td>\n",
       "      <td>0</td>\n",
       "      <td>0</td>\n",
       "      <td>0</td>\n",
       "      <td>0</td>\n",
       "      <td>0</td>\n",
       "      <td>1</td>\n",
       "      <td>0</td>\n",
       "      <td>0</td>\n",
       "      <td>1</td>\n",
       "      <td>0</td>\n",
       "      <td>1</td>\n",
       "      <td>0</td>\n",
       "      <td>0</td>\n",
       "      <td>0</td>\n",
       "      <td>0</td>\n",
       "    </tr>\n",
       "    <tr>\n",
       "      <th>3</th>\n",
       "      <td>0</td>\n",
       "      <td>270000.0</td>\n",
       "      <td>0</td>\n",
       "      <td>1</td>\n",
       "      <td>1</td>\n",
       "      <td>1</td>\n",
       "      <td>26</td>\n",
       "      <td>52</td>\n",
       "      <td>8</td>\n",
       "      <td>0</td>\n",
       "      <td>0</td>\n",
       "      <td>1</td>\n",
       "      <td>0</td>\n",
       "      <td>0</td>\n",
       "      <td>0</td>\n",
       "      <td>0</td>\n",
       "      <td>0</td>\n",
       "      <td>0</td>\n",
       "      <td>0</td>\n",
       "      <td>1</td>\n",
       "      <td>0</td>\n",
       "      <td>0</td>\n",
       "      <td>1</td>\n",
       "      <td>0</td>\n",
       "      <td>1</td>\n",
       "      <td>0</td>\n",
       "      <td>0</td>\n",
       "      <td>0</td>\n",
       "      <td>0</td>\n",
       "    </tr>\n",
       "    <tr>\n",
       "      <th>4</th>\n",
       "      <td>0</td>\n",
       "      <td>270000.0</td>\n",
       "      <td>0</td>\n",
       "      <td>1</td>\n",
       "      <td>1</td>\n",
       "      <td>1</td>\n",
       "      <td>38</td>\n",
       "      <td>52</td>\n",
       "      <td>8</td>\n",
       "      <td>0</td>\n",
       "      <td>0</td>\n",
       "      <td>1</td>\n",
       "      <td>0</td>\n",
       "      <td>0</td>\n",
       "      <td>0</td>\n",
       "      <td>0</td>\n",
       "      <td>0</td>\n",
       "      <td>0</td>\n",
       "      <td>0</td>\n",
       "      <td>1</td>\n",
       "      <td>0</td>\n",
       "      <td>0</td>\n",
       "      <td>1</td>\n",
       "      <td>0</td>\n",
       "      <td>1</td>\n",
       "      <td>0</td>\n",
       "      <td>0</td>\n",
       "      <td>0</td>\n",
       "      <td>0</td>\n",
       "    </tr>\n",
       "  </tbody>\n",
       "</table>\n",
       "</div>"
      ],
      "text/plain": [
       "   NO_OF_CHILD    INCOME  WORK_PHONE  PHONE  E_MAIL  FAMILY SIZE  BEGIN_MONTH  \\\n",
       "0            0  112500.0           0      0       0            2           29   \n",
       "1            0  270000.0           0      1       1            1            4   \n",
       "2            0  270000.0           0      1       1            1           26   \n",
       "3            0  270000.0           0      1       1            1           26   \n",
       "4            0  270000.0           0      1       1            1           38   \n",
       "\n",
       "   AGE  YEARS_EMPLOYED  GENDER_M  CAR_Y  REALITY_Y  INCOME_TYPE_Pensioner  \\\n",
       "0   59               3         1      1          1                      0   \n",
       "1   52               8         0      0          1                      0   \n",
       "2   52               8         0      0          1                      0   \n",
       "3   52               8         0      0          1                      0   \n",
       "4   52               8         0      0          1                      0   \n",
       "\n",
       "   INCOME_TYPE_State servant  INCOME_TYPE_Student  INCOME_TYPE_Working  \\\n",
       "0                          0                    0                    1   \n",
       "1                          0                    0                    0   \n",
       "2                          0                    0                    0   \n",
       "3                          0                    0                    0   \n",
       "4                          0                    0                    0   \n",
       "\n",
       "   EDUCATION_TYPE_Higher education  EDUCATION_TYPE_Incomplete higher  \\\n",
       "0                                0                                 0   \n",
       "1                                0                                 0   \n",
       "2                                0                                 0   \n",
       "3                                0                                 0   \n",
       "4                                0                                 0   \n",
       "\n",
       "   EDUCATION_TYPE_Lower secondary  \\\n",
       "0                               0   \n",
       "1                               0   \n",
       "2                               0   \n",
       "3                               0   \n",
       "4                               0   \n",
       "\n",
       "   EDUCATION_TYPE_Secondary / secondary special  FAMILY_TYPE_Married  \\\n",
       "0                                             1                    1   \n",
       "1                                             1                    0   \n",
       "2                                             1                    0   \n",
       "3                                             1                    0   \n",
       "4                                             1                    0   \n",
       "\n",
       "   FAMILY_TYPE_Separated  FAMILY_TYPE_Single / not married  FAMILY_TYPE_Widow  \\\n",
       "0                      0                                 0                  0   \n",
       "1                      0                                 1                  0   \n",
       "2                      0                                 1                  0   \n",
       "3                      0                                 1                  0   \n",
       "4                      0                                 1                  0   \n",
       "\n",
       "   HOUSE_TYPE_House / apartment  HOUSE_TYPE_Municipal apartment  \\\n",
       "0                             1                               0   \n",
       "1                             1                               0   \n",
       "2                             1                               0   \n",
       "3                             1                               0   \n",
       "4                             1                               0   \n",
       "\n",
       "   HOUSE_TYPE_Office apartment  HOUSE_TYPE_Rented apartment  \\\n",
       "0                            0                            0   \n",
       "1                            0                            0   \n",
       "2                            0                            0   \n",
       "3                            0                            0   \n",
       "4                            0                            0   \n",
       "\n",
       "   HOUSE_TYPE_With parents  \n",
       "0                        0  \n",
       "1                        0  \n",
       "2                        0  \n",
       "3                        0  \n",
       "4                        0  "
      ]
     },
     "execution_count": 16,
     "metadata": {},
     "output_type": "execute_result"
    }
   ],
   "source": [
    "# droping the ID column as it is a unique id and wont affect the target\n",
    "credit_x.drop('ID', axis = 1, inplace = True)\n",
    "credit_x.head()"
   ]
  },
  {
   "cell_type": "markdown",
   "id": "17f20ebe",
   "metadata": {},
   "source": [
    "## Checking if our data is balanced or imbalanced"
   ]
  },
  {
   "cell_type": "code",
   "execution_count": 17,
   "id": "cf2d09db",
   "metadata": {},
   "outputs": [
    {
     "data": {
      "text/plain": [
       "Text(0, 0.5, 'Frequency')"
      ]
     },
     "execution_count": 17,
     "metadata": {},
     "output_type": "execute_result"
    },
    {
     "data": {
      "image/png": "[encoded data removed]",
      "text/plain": [
       "<Figure size 432x288 with 1 Axes>"
      ]
     },
     "metadata": {
      "needs_background": "light"
     },
     "output_type": "display_data"
    }
   ],
   "source": [
    "Target = pd.value_counts(credit_y, sort = True)\n",
    "Target.plot(kind = 'bar', rot = 0)\n",
    "plt.title(\"Target Distribution\")\n",
    "plt.xlabel(\"Target\")\n",
    "plt.ylabel(\"Frequency\")"
   ]
  },
  {
   "cell_type": "markdown",
   "id": "a6a69cb1",
   "metadata": {},
   "source": [
    "It can be clearly seen from the above bar chart that our data is immensely imbalanced, so any model made on such dataset will be definately biased. Such imbalanced dataset can be handled either by 'Undersampling' or 'Oversampling' technique.\n",
    "\n",
    "- Random Oversampling: Randomly duplicate examples in the minority class.\n",
    "- Random Undersampling: Randomly delete examples in the majority class.\n",
    "\n",
    "The major issue with undersampling is that we might miss the important records which can affect our model's prediction, so mostly oversampling is prefered.\n",
    "\n",
    "Some of the more widely used and implemented oversampling methods include:\n",
    "\n",
    "- Random Oversampling\n",
    "- Synthetic Minority Oversampling Technique (SMOTE)\n",
    "- Borderline-SMOTE\n",
    "- Borderline Oversampling with SVM\n",
    "- Adaptive Synthetic Sampling (ADASYN)"
   ]
  },
  {
   "cell_type": "code",
   "execution_count": 18,
   "id": "2b8113e7",
   "metadata": {},
   "outputs": [],
   "source": [
    "# we will be using Synthetic Minority Oversampling Technique (SMOTE) method\n",
    "\n",
    "smk = SMOTETomek()\n",
    "credit_x_res, credit_y_res = smk.fit_resample(credit_x, credit_y)"
   ]
  },
  {
   "cell_type": "code",
   "execution_count": 19,
   "id": "f00612b4",
   "metadata": {},
   "outputs": [
    {
     "name": "stdout",
     "output_type": "stream",
     "text": [
      "(25134, 29) (25134,)\n",
      "(49330, 29) (49330,)\n"
     ]
    }
   ],
   "source": [
    "# Observing the data before and after oversampling\n",
    "\n",
    "print(credit_x.shape,credit_y.shape)\n",
    "print(credit_x_res.shape,credit_y_res.shape)"
   ]
  },
  {
   "cell_type": "markdown",
   "id": "0884d79d",
   "metadata": {},
   "source": [
    "## Feature Scaling "
   ]
  },
  {
   "cell_type": "code",
   "execution_count": 20,
   "id": "218377e5",
   "metadata": {},
   "outputs": [],
   "source": [
    "# scaling the features by MinMaxScaler\n",
    "\n",
    "scaler = MinMaxScaler()\n",
    "scaled_features = scaler.fit_transform(credit_x_res)"
   ]
  },
  {
   "cell_type": "code",
   "execution_count": 21,
   "id": "c0b07ef5",
   "metadata": {},
   "outputs": [
    {
     "data": {
      "text/html": [
       "<div>\n",
       "<style scoped>\n",
       "    .dataframe tbody tr th:only-of-type {\n",
       "        vertical-align: middle;\n",
       "    }\n",
       "\n",
       "    .dataframe tbody tr th {\n",
       "        vertical-align: top;\n",
       "    }\n",
       "\n",
       "    .dataframe thead th {\n",
       "        text-align: right;\n",
       "    }\n",
       "</style>\n",
       "<table border=\"1\" class=\"dataframe\">\n",
       "  <thead>\n",
       "    <tr style=\"text-align: right;\">\n",
       "      <th></th>\n",
       "      <th>NO_OF_CHILD</th>\n",
       "      <th>INCOME</th>\n",
       "      <th>WORK_PHONE</th>\n",
       "      <th>PHONE</th>\n",
       "      <th>E_MAIL</th>\n",
       "      <th>FAMILY SIZE</th>\n",
       "      <th>BEGIN_MONTH</th>\n",
       "      <th>AGE</th>\n",
       "      <th>YEARS_EMPLOYED</th>\n",
       "      <th>GENDER_M</th>\n",
       "      <th>CAR_Y</th>\n",
       "      <th>REALITY_Y</th>\n",
       "      <th>INCOME_TYPE_Pensioner</th>\n",
       "      <th>INCOME_TYPE_State servant</th>\n",
       "      <th>INCOME_TYPE_Student</th>\n",
       "      <th>INCOME_TYPE_Working</th>\n",
       "      <th>EDUCATION_TYPE_Higher education</th>\n",
       "      <th>EDUCATION_TYPE_Incomplete higher</th>\n",
       "      <th>EDUCATION_TYPE_Lower secondary</th>\n",
       "      <th>EDUCATION_TYPE_Secondary / secondary special</th>\n",
       "      <th>FAMILY_TYPE_Married</th>\n",
       "      <th>FAMILY_TYPE_Separated</th>\n",
       "      <th>FAMILY_TYPE_Single / not married</th>\n",
       "      <th>FAMILY_TYPE_Widow</th>\n",
       "      <th>HOUSE_TYPE_House / apartment</th>\n",
       "      <th>HOUSE_TYPE_Municipal apartment</th>\n",
       "      <th>HOUSE_TYPE_Office apartment</th>\n",
       "      <th>HOUSE_TYPE_Rented apartment</th>\n",
       "      <th>HOUSE_TYPE_With parents</th>\n",
       "    </tr>\n",
       "  </thead>\n",
       "  <tbody>\n",
       "    <tr>\n",
       "      <th>0</th>\n",
       "      <td>0.0</td>\n",
       "      <td>0.055233</td>\n",
       "      <td>0.0</td>\n",
       "      <td>0.0</td>\n",
       "      <td>0.0</td>\n",
       "      <td>0.052632</td>\n",
       "      <td>0.483333</td>\n",
       "      <td>0.826087</td>\n",
       "      <td>0.069767</td>\n",
       "      <td>1.0</td>\n",
       "      <td>1.0</td>\n",
       "      <td>1.0</td>\n",
       "      <td>0.0</td>\n",
       "      <td>0.0</td>\n",
       "      <td>0.0</td>\n",
       "      <td>1.0</td>\n",
       "      <td>0.0</td>\n",
       "      <td>0.0</td>\n",
       "      <td>0.0</td>\n",
       "      <td>1.0</td>\n",
       "      <td>1.0</td>\n",
       "      <td>0.0</td>\n",
       "      <td>0.0</td>\n",
       "      <td>0.0</td>\n",
       "      <td>1.0</td>\n",
       "      <td>0.0</td>\n",
       "      <td>0.0</td>\n",
       "      <td>0.0</td>\n",
       "      <td>0.0</td>\n",
       "    </tr>\n",
       "    <tr>\n",
       "      <th>1</th>\n",
       "      <td>0.0</td>\n",
       "      <td>0.156977</td>\n",
       "      <td>0.0</td>\n",
       "      <td>1.0</td>\n",
       "      <td>1.0</td>\n",
       "      <td>0.000000</td>\n",
       "      <td>0.066667</td>\n",
       "      <td>0.673913</td>\n",
       "      <td>0.186047</td>\n",
       "      <td>0.0</td>\n",
       "      <td>0.0</td>\n",
       "      <td>1.0</td>\n",
       "      <td>0.0</td>\n",
       "      <td>0.0</td>\n",
       "      <td>0.0</td>\n",
       "      <td>0.0</td>\n",
       "      <td>0.0</td>\n",
       "      <td>0.0</td>\n",
       "      <td>0.0</td>\n",
       "      <td>1.0</td>\n",
       "      <td>0.0</td>\n",
       "      <td>0.0</td>\n",
       "      <td>1.0</td>\n",
       "      <td>0.0</td>\n",
       "      <td>1.0</td>\n",
       "      <td>0.0</td>\n",
       "      <td>0.0</td>\n",
       "      <td>0.0</td>\n",
       "      <td>0.0</td>\n",
       "    </tr>\n",
       "    <tr>\n",
       "      <th>2</th>\n",
       "      <td>0.0</td>\n",
       "      <td>0.156977</td>\n",
       "      <td>0.0</td>\n",
       "      <td>1.0</td>\n",
       "      <td>1.0</td>\n",
       "      <td>0.000000</td>\n",
       "      <td>0.433333</td>\n",
       "      <td>0.673913</td>\n",
       "      <td>0.186047</td>\n",
       "      <td>0.0</td>\n",
       "      <td>0.0</td>\n",
       "      <td>1.0</td>\n",
       "      <td>0.0</td>\n",
       "      <td>0.0</td>\n",
       "      <td>0.0</td>\n",
       "      <td>0.0</td>\n",
       "      <td>0.0</td>\n",
       "      <td>0.0</td>\n",
       "      <td>0.0</td>\n",
       "      <td>1.0</td>\n",
       "      <td>0.0</td>\n",
       "      <td>0.0</td>\n",
       "      <td>1.0</td>\n",
       "      <td>0.0</td>\n",
       "      <td>1.0</td>\n",
       "      <td>0.0</td>\n",
       "      <td>0.0</td>\n",
       "      <td>0.0</td>\n",
       "      <td>0.0</td>\n",
       "    </tr>\n",
       "    <tr>\n",
       "      <th>3</th>\n",
       "      <td>0.0</td>\n",
       "      <td>0.156977</td>\n",
       "      <td>0.0</td>\n",
       "      <td>1.0</td>\n",
       "      <td>1.0</td>\n",
       "      <td>0.000000</td>\n",
       "      <td>0.433333</td>\n",
       "      <td>0.673913</td>\n",
       "      <td>0.186047</td>\n",
       "      <td>0.0</td>\n",
       "      <td>0.0</td>\n",
       "      <td>1.0</td>\n",
       "      <td>0.0</td>\n",
       "      <td>0.0</td>\n",
       "      <td>0.0</td>\n",
       "      <td>0.0</td>\n",
       "      <td>0.0</td>\n",
       "      <td>0.0</td>\n",
       "      <td>0.0</td>\n",
       "      <td>1.0</td>\n",
       "      <td>0.0</td>\n",
       "      <td>0.0</td>\n",
       "      <td>1.0</td>\n",
       "      <td>0.0</td>\n",
       "      <td>1.0</td>\n",
       "      <td>0.0</td>\n",
       "      <td>0.0</td>\n",
       "      <td>0.0</td>\n",
       "      <td>0.0</td>\n",
       "    </tr>\n",
       "    <tr>\n",
       "      <th>4</th>\n",
       "      <td>0.0</td>\n",
       "      <td>0.156977</td>\n",
       "      <td>0.0</td>\n",
       "      <td>1.0</td>\n",
       "      <td>1.0</td>\n",
       "      <td>0.000000</td>\n",
       "      <td>0.633333</td>\n",
       "      <td>0.673913</td>\n",
       "      <td>0.186047</td>\n",
       "      <td>0.0</td>\n",
       "      <td>0.0</td>\n",
       "      <td>1.0</td>\n",
       "      <td>0.0</td>\n",
       "      <td>0.0</td>\n",
       "      <td>0.0</td>\n",
       "      <td>0.0</td>\n",
       "      <td>0.0</td>\n",
       "      <td>0.0</td>\n",
       "      <td>0.0</td>\n",
       "      <td>1.0</td>\n",
       "      <td>0.0</td>\n",
       "      <td>0.0</td>\n",
       "      <td>1.0</td>\n",
       "      <td>0.0</td>\n",
       "      <td>1.0</td>\n",
       "      <td>0.0</td>\n",
       "      <td>0.0</td>\n",
       "      <td>0.0</td>\n",
       "      <td>0.0</td>\n",
       "    </tr>\n",
       "  </tbody>\n",
       "</table>\n",
       "</div>"
      ],
      "text/plain": [
       "   NO_OF_CHILD    INCOME  WORK_PHONE  PHONE  E_MAIL  FAMILY SIZE  BEGIN_MONTH  \\\n",
       "0          0.0  0.055233         0.0    0.0     0.0     0.052632     0.483333   \n",
       "1          0.0  0.156977         0.0    1.0     1.0     0.000000     0.066667   \n",
       "2          0.0  0.156977         0.0    1.0     1.0     0.000000     0.433333   \n",
       "3          0.0  0.156977         0.0    1.0     1.0     0.000000     0.433333   \n",
       "4          0.0  0.156977         0.0    1.0     1.0     0.000000     0.633333   \n",
       "\n",
       "        AGE  YEARS_EMPLOYED  GENDER_M  CAR_Y  REALITY_Y  \\\n",
       "0  0.826087        0.069767       1.0    1.0        1.0   \n",
       "1  0.673913        0.186047       0.0    0.0        1.0   \n",
       "2  0.673913        0.186047       0.0    0.0        1.0   \n",
       "3  0.673913        0.186047       0.0    0.0        1.0   \n",
       "4  0.673913        0.186047       0.0    0.0        1.0   \n",
       "\n",
       "   INCOME_TYPE_Pensioner  INCOME_TYPE_State servant  INCOME_TYPE_Student  \\\n",
       "0                    0.0                        0.0                  0.0   \n",
       "1                    0.0                        0.0                  0.0   \n",
       "2                    0.0                        0.0                  0.0   \n",
       "3                    0.0                        0.0                  0.0   \n",
       "4                    0.0                        0.0                  0.0   \n",
       "\n",
       "   INCOME_TYPE_Working  EDUCATION_TYPE_Higher education  \\\n",
       "0                  1.0                              0.0   \n",
       "1                  0.0                              0.0   \n",
       "2                  0.0                              0.0   \n",
       "3                  0.0                              0.0   \n",
       "4                  0.0                              0.0   \n",
       "\n",
       "   EDUCATION_TYPE_Incomplete higher  EDUCATION_TYPE_Lower secondary  \\\n",
       "0                               0.0                             0.0   \n",
       "1                               0.0                             0.0   \n",
       "2                               0.0                             0.0   \n",
       "3                               0.0                             0.0   \n",
       "4                               0.0                             0.0   \n",
       "\n",
       "   EDUCATION_TYPE_Secondary / secondary special  FAMILY_TYPE_Married  \\\n",
       "0                                           1.0                  1.0   \n",
       "1                                           1.0                  0.0   \n",
       "2                                           1.0                  0.0   \n",
       "3                                           1.0                  0.0   \n",
       "4                                           1.0                  0.0   \n",
       "\n",
       "   FAMILY_TYPE_Separated  FAMILY_TYPE_Single / not married  FAMILY_TYPE_Widow  \\\n",
       "0                    0.0                               0.0                0.0   \n",
       "1                    0.0                               1.0                0.0   \n",
       "2                    0.0                               1.0                0.0   \n",
       "3                    0.0                               1.0                0.0   \n",
       "4                    0.0                               1.0                0.0   \n",
       "\n",
       "   HOUSE_TYPE_House / apartment  HOUSE_TYPE_Municipal apartment  \\\n",
       "0                           1.0                             0.0   \n",
       "1                           1.0                             0.0   \n",
       "2                           1.0                             0.0   \n",
       "3                           1.0                             0.0   \n",
       "4                           1.0                             0.0   \n",
       "\n",
       "   HOUSE_TYPE_Office apartment  HOUSE_TYPE_Rented apartment  \\\n",
       "0                          0.0                          0.0   \n",
       "1                          0.0                          0.0   \n",
       "2                          0.0                          0.0   \n",
       "3                          0.0                          0.0   \n",
       "4                          0.0                          0.0   \n",
       "\n",
       "   HOUSE_TYPE_With parents  \n",
       "0                      0.0  \n",
       "1                      0.0  \n",
       "2                      0.0  \n",
       "3                      0.0  \n",
       "4                      0.0  "
      ]
     },
     "execution_count": 21,
     "metadata": {},
     "output_type": "execute_result"
    }
   ],
   "source": [
    "# as MinMaxScaler returns a array so we are converting it to a DataFrame\n",
    "\n",
    "credit_x_res = pd.DataFrame(scaled_features,columns = credit_x.columns)\n",
    "credit_x_res.head()"
   ]
  },
  {
   "cell_type": "markdown",
   "id": "ce5bcb2f",
   "metadata": {},
   "source": [
    "## Train Test Split for model training"
   ]
  },
  {
   "cell_type": "code",
   "execution_count": 22,
   "id": "a820796c",
   "metadata": {},
   "outputs": [
    {
     "name": "stdout",
     "output_type": "stream",
     "text": [
      "(29598, 29)   (29598,)\n",
      "(19732, 29)   (19732,)\n"
     ]
    }
   ],
   "source": [
    "# splitting data into train and test\n",
    "\n",
    "x_train,x_test,y_train,y_test = train_test_split(credit_x_res, credit_y_res, test_size = 0.4)\n",
    "print(x_train.shape,' ',y_train.shape)\n",
    "print(x_test.shape,' ',y_test.shape)"
   ]
  },
  {
   "cell_type": "markdown",
   "id": "489a5eee",
   "metadata": {},
   "source": [
    "## Building our Classification Model"
   ]
  },
  {
   "cell_type": "code",
   "execution_count": 23,
   "id": "04af66a9",
   "metadata": {},
   "outputs": [
    {
     "data": {
      "text/plain": [
       "KNeighborsClassifier(metric='euclidean', n_neighbors=3)"
      ]
     },
     "execution_count": 23,
     "metadata": {},
     "output_type": "execute_result"
    }
   ],
   "source": [
    "# creating Knearestneighbor model for k = 3\n",
    "\n",
    "model = KNeighborsClassifier(n_neighbors = 3, metric = \"euclidean\")\n",
    "model.fit(x_train,y_train)"
   ]
  },
  {
   "cell_type": "code",
   "execution_count": 24,
   "id": "c0091fa5",
   "metadata": {},
   "outputs": [],
   "source": [
    "# making predictions for test data\n",
    "predictions = model.predict(x_test)"
   ]
  },
  {
   "cell_type": "code",
   "execution_count": 25,
   "id": "b45f6461",
   "metadata": {},
   "outputs": [
    {
     "name": "stdout",
     "output_type": "stream",
     "text": [
      "0.9708088384350294\n"
     ]
    }
   ],
   "source": [
    "# accuracy score for predictions made on test data\n",
    "print(metrics.accuracy_score(y_test, predictions))"
   ]
  },
  {
   "cell_type": "code",
   "execution_count": 26,
   "id": "e158b4d2",
   "metadata": {},
   "outputs": [
    {
     "data": {
      "text/plain": [
       "array([[9307,  480],\n",
       "       [  96, 9849]], dtype=int64)"
      ]
     },
     "execution_count": 26,
     "metadata": {},
     "output_type": "execute_result"
    }
   ],
   "source": [
    "# Confusion matrix to evaluate the performance of the KNN model\n",
    "metrics.confusion_matrix(y_test, predictions)"
   ]
  },
  {
   "cell_type": "markdown",
   "id": "187e9eb2",
   "metadata": {},
   "source": [
    "Our model is giving good accuracy of >90% and from confusion matrix we can see that our model is performing well for k=3, thus we can select this value or we can visualize the variation in accuracy score with k."
   ]
  },
  {
   "cell_type": "markdown",
   "id": "0e840e61",
   "metadata": {},
   "source": [
    "## Identifying the best value of K"
   ]
  },
  {
   "cell_type": "code",
   "execution_count": 27,
   "id": "38b87f32",
   "metadata": {},
   "outputs": [
    {
     "data": {
      "text/plain": [
       "[<matplotlib.lines.Line2D at 0x297581da308>]"
      ]
     },
     "execution_count": 27,
     "metadata": {},
     "output_type": "execute_result"
    },
    {
     "data": {
      "image/png": "[encoded data removed]",
      "text/plain": [
       "<Figure size 432x288 with 1 Axes>"
      ]
     },
     "metadata": {
      "needs_background": "light"
     },
     "output_type": "display_data"
    }
   ],
   "source": [
    "# building KNN model for values of k from 1 to 50 and evaluating the accuracy score\n",
    "accuracy_score = []\n",
    "\n",
    "k_vals = [i for i in range(1,50)]\n",
    "\n",
    "for k in k_vals:\n",
    "    model = KNeighborsClassifier(n_neighbors = k,metric='euclidean', n_jobs = -1)\n",
    "    model.fit(x_train,y_train)\n",
    "    predictions = model.predict(x_test)\n",
    "    pred = metrics.accuracy_score(y_test, predictions)\n",
    "    accuracy_score.append(pred)\n",
    "\n",
    "plt.plot(k_vals, accuracy_score)"
   ]
  },
  {
   "cell_type": "markdown",
   "id": "cbc1f086",
   "metadata": {},
   "source": [
    "KNearestNeighbors classification model is performing well for k=3 but you can vary the value K by comparing the accuracy score that we are getting in the above graph. We usually take the K value after which we tend to get a constant accuracy because it is considered to be the best K at which our model performs well consistently."
   ]
  },
  {
   "cell_type": "code",
   "execution_count": null,
   "id": "8f738241",
   "metadata": {},
   "outputs": [],
   "source": []
  }
 ],
 "metadata": {
  "kernelspec": {
   "display_name": "Python 3",
   "language": "python",
   "name": "python3"
  },
  "language_info": {
   "codemirror_mode": {
    "name": "ipython",
    "version": 3
   },
   "file_extension": ".py",
   "mimetype": "text/x-python",
   "name": "python",
   "nbconvert_exporter": "python",
   "pygments_lexer": "ipython3",
   "version": "3.7.6"
  }
 },
 "nbformat": 4,
 "nbformat_minor": 5
}
